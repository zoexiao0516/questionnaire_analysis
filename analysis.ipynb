{
 "cells": [
  {
   "cell_type": "code",
   "execution_count": 1,
   "id": "df6be8ce-645e-45e7-a437-74886d981bbe",
   "metadata": {},
   "outputs": [],
   "source": [
    "import pandas as pd "
   ]
  },
  {
   "cell_type": "code",
   "execution_count": 2,
   "id": "67408f89-40f9-41ce-bb14-02b2c24ec030",
   "metadata": {},
   "outputs": [
    {
     "name": "stdout",
     "output_type": "stream",
     "text": [
      "Index(['Unnamed: 0', 'Unnamed: 1', 'Unnamed: 2', 'Unnamed: 3', 'fieldLabel',\n",
      "       'C.1.1.1 - Please provide the date the last CCA was conducted',\n",
      "       'C.1.1.2 - What action has the UNCT taken on its CCA in the last year? [QCPR: 3.1.3]',\n",
      "       'C.1.1.2.1 - Did the UNCT, in the process of the initial or updated CCA, take the following steps?',\n",
      "       'C.1.1.3 - Has the UNCT made the most recent initial or updated CCA publicly available (UNCT website or UNSDG data portal)? ',\n",
      "       'C.1.1.4 - With which actors did UNCT consult in the process of developing the CCA (the full CCA, not the update)?',\n",
      "       'C.1.1.4.1 - Please specify',\n",
      "       'C.1.1.5 - With respect to the last full CCA prepared as part of the Cooperation Framework/UNDAF design process, which UN entities participated in the development of the CCA (present in country)? [QCPR 5.2.2]',\n",
      "       'C.1.1.6 - With respect to the last full CCA prepared as part of the Cooperation Framework/UNDAF design process, which UN entities participated in the development of the CCA (not physically present in country)? [QCPR: 5.2.2]',\n",
      "       'C.1.2.1 - Is there a time-bound National Development Plan?',\n",
      "       'C.1.2.1.1 - Are SDGs and Agenda 2030 mainstreamed in the National Development Plan?',\n",
      "       'C.1.2.1.1.a - If you are an MCO, use this box to answer whether the SDGs ad Agenda 2030 are mainstreamed into each country's National Development Plan, and whether the UN provided support to each',\n",
      "       'C.1.2.1.2 - Did the UN support the development of the National Plan? [QCPR: 1.4.2]',\n",
      "       'C.1.2.1.2.1 - Was it provided jointly? [QCPR: 1.4.2]',\n",
      "       'C.1.2.1.2.1.1 - What type of support was provided? [QCPR: 1.4.2]',\n",
      "       'C.1.2.1.2.1.1.1 - Please specify',\n",
      "       'C.1.2.2 - Does the host country have a national SDG indicator framework to monitor progress towards the SDGs?',\n",
      "       'C.1.3.5 - Are you an MCO',\n",
      "       'C.1.4.1 - Is the Joint National-UN Steering Committee established? [QCPR: 1.1.2]',\n",
      "       'C.1.4.1.b - If your RCO is an MCO and there are multiple Joint National UN-Steering Committees, please fill this in.  If your country is not an MCO, please type 'n/a'.',\n",
      "       'C.1.4.1.a - Why is that the case?',\n",
      "       'C.1.4.1.1 - How often did the Joint National-UN Steering Committee meet in the last 12 months?',\n",
      "       'C.1.4.1.2 - Who is part of the Joint National-UN Steering Committee?',\n",
      "       'C.1.4.1.2.1 - Please specify',\n",
      "       'C.1.4.1.3 - Did an Annual Performance Review take place in the 2022 calendar year ',\n",
      "       'C.1.5.1 - Does the UNCT have Results Groups?',\n",
      "       'C.1.5.3 – Does the UNCT have Thematic Groups (in addition to results groups)? ',\n",
      "       'C.1.5.3.1 - Please enter the number of thematic groups',\n",
      "       'C.1.5.3.2 - Select the areas that the thematic groups cover',\n",
      "       'C.1.5.3.2.1 - Please specify'],\n",
      "      dtype='object')\n"
     ]
    }
   ],
   "source": [
    "# Locate the path to your Excel file\n",
    "file_path = '/Users/zoexiao/Documents/UN/2022 IMS Raw Data (NEW DOWNLOAD).xlsx'\n",
    "\n",
    "# Select the name of the sheet you want to import, default is the first sheet\n",
    "sheet_name = 'eqvbe_planningAndProgramming'\n",
    "\n",
    "# Skip the first six rows\n",
    "skip_rows = 6\n",
    "\n",
    "# Read the Excel file into a DataFrame\n",
    "df = pd.read_excel(file_path, sheet_name=sheet_name, skiprows=skip_rows)\n",
    "\n",
    "# Now df contains the data from the specified sheet, skipping the first two rows\n",
    "\n",
    "# You can start analyzing your data using pandas functions\n",
    "# For example, you can print the first few rows of the DataFrame\n",
    "print(df.columns)"
   ]
  },
  {
   "cell_type": "code",
   "execution_count": 3,
   "id": "d9224cff",
   "metadata": {},
   "outputs": [
    {
     "name": "stdout",
     "output_type": "stream",
     "text": [
      "Number of 'Yes' in column C.1.4.1 - Is the Joint National-UN Steering Committee established? [QCPR: 1.1.2]: 109\n",
      "Number of 'No' in column C.1.4.1 - Is the Joint National-UN Steering Committee established? [QCPR: 1.1.2]: 22\n",
      "Total answers in column C.1.4.1 - Is the Joint National-UN Steering Committee established? [QCPR: 1.1.2]: 131\n",
      "SGR value: 0.8320610687022901\n"
     ]
    }
   ],
   "source": [
    "# Select the question you are interested in\n",
    "column_name = 'C.1.4.1 - Is the Joint National-UN Steering Committee established? [QCPR: 1.1.2]'\n",
    "\n",
    "# Count the occurrences of 'tes' and 'no' in the specified column\n",
    "yes_count = df[column_name].value_counts().get('yes', 0)\n",
    "no_count = df[column_name].value_counts().get('no', 0)\n",
    "\n",
    "# Calculate the SGR (Yes-to-All ratio) value\n",
    "total_answers = yes_count + no_count\n",
    "sgr_value = yes_count / total_answers if total_answers > 0 else 0\n",
    "\n",
    "# Print the results\n",
    "print(f\"Number of 'Yes' in column {column_name}: {yes_count}\")\n",
    "print(f\"Number of 'No' in column {column_name}: {no_count}\")\n",
    "print(f\"Total answers in column {column_name}: {total_answers}\")\n",
    "print(f\"SGR value: {sgr_value}\")"
   ]
  },
  {
   "cell_type": "code",
   "execution_count": null,
   "id": "73364e4f-8181-4b04-abf3-44bd1f6097ef",
   "metadata": {},
   "outputs": [],
   "source": []
  }
 ],
 "metadata": {
  "kernelspec": {
   "display_name": "Python 3 (ipykernel)",
   "language": "python",
   "name": "python3"
  },
  "language_info": {
   "codemirror_mode": {
    "name": "ipython",
    "version": 3
   },
   "file_extension": ".py",
   "mimetype": "text/x-python",
   "name": "python",
   "nbconvert_exporter": "python",
   "pygments_lexer": "ipython3",
   "version": "3.10.11"
  }
 },
 "nbformat": 4,
 "nbformat_minor": 5
}
